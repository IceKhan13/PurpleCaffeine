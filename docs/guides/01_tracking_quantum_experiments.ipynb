{
 "cells": [
  {
   "cell_type": "markdown",
   "id": "212f2f43-9592-4b2a-83a2-77009fd42ecc",
   "metadata": {},
   "source": [
    "# Guide: Tracking quantum experiments\n",
    "\n",
    "In this guide we will show you how to keep track of your quantum experiments.\n",
    "\n",
    "First we introduce glossary:\n",
    "- `Trial` is a tracking class which wraps a single execution of your quantum experiment\n",
    "- `Backend` is a class responsible for storing trial data\n",
    "\n",
    "We will show simple example of measuring expectation value of an observable and how to track all information about this experiment.\n",
    "\n",
    "Let's start with importing necessary modules."
   ]
  },
  {
   "cell_type": "code",
   "execution_count": 1,
   "id": "adf08145-e5e9-4bce-9883-554e51d85a5c",
   "metadata": {},
   "outputs": [],
   "source": [
    "from qiskit.circuit.random import random_circuit\n",
    "from qiskit.quantum_info.random import random_pauli\n",
    "from qiskit.primitives import Estimator\n",
    "\n",
    "from purplecaffeine.core import Trial, LocalBackend"
   ]
  },
  {
   "cell_type": "markdown",
   "id": "0e71e4ac-e636-48d6-89ac-8873da516f40",
   "metadata": {},
   "source": [
    "Next we need to define some variables, circuit and observable"
   ]
  },
  {
   "cell_type": "code",
   "execution_count": 2,
   "id": "ce6f6c09-231d-4491-94d1-e4fa935ae7ab",
   "metadata": {},
   "outputs": [
    {
     "data": {
      "text/html": [
       "<pre style=\"word-wrap: normal;white-space: pre;background: #fff0;line-height: 1.1;font-family: &quot;Courier New&quot;,Courier,monospace\">                                                      ┌────┐               \n",
       "q_0: ────────────────────────────■────────────────────┤ √X ├──────■────────\n",
       "     ┌────────────┐              │                    ├───┬┘      │ ┌─────┐\n",
       "q_1: ┤ Rz(4.2568) ├──────────────┼────────────────────┤ S ├───────┼─┤ Tdg ├\n",
       "     ├────────────┤              │               ┌────┴───┴─────┐ │ └─────┘\n",
       "q_2: ┤ Rz(3.9296) ├──────────────┼───────────────┤0             ├─■────────\n",
       "     └────────────┘┌─────────────┴──────────────┐│  Ryy(5.7992) │ │        \n",
       "q_3: ──────────────┤ U3(0.057242,4.0814,3.8183) ├┤1             ├─■────────\n",
       "                   └────────────────────────────┘└──────────────┘          </pre>"
      ],
      "text/plain": [
       "                                                      ┌────┐               \n",
       "q_0: ────────────────────────────■────────────────────┤ √X ├──────■────────\n",
       "     ┌────────────┐              │                    ├───┬┘      │ ┌─────┐\n",
       "q_1: ┤ Rz(4.2568) ├──────────────┼────────────────────┤ S ├───────┼─┤ Tdg ├\n",
       "     ├────────────┤              │               ┌────┴───┴─────┐ │ └─────┘\n",
       "q_2: ┤ Rz(3.9296) ├──────────────┼───────────────┤0             ├─■────────\n",
       "     └────────────┘┌─────────────┴──────────────┐│  Ryy(5.7992) │ │        \n",
       "q_3: ──────────────┤ U3(0.057242,4.0814,3.8183) ├┤1             ├─■────────\n",
       "                   └────────────────────────────┘└──────────────┘          "
      ]
     },
     "execution_count": 2,
     "metadata": {},
     "output_type": "execute_result"
    }
   ],
   "source": [
    "n_qubits = 4\n",
    "depth = 3\n",
    "shots = 2000\n",
    "\n",
    "circuit = random_circuit(n_qubits, depth)\n",
    "circuit.draw(fold=-1)"
   ]
  },
  {
   "cell_type": "code",
   "execution_count": 3,
   "id": "b3544498-e006-4c22-a474-91e7d7c86a20",
   "metadata": {},
   "outputs": [
    {
     "data": {
      "text/plain": [
       "Pauli('YIIZ')"
      ]
     },
     "execution_count": 3,
     "metadata": {},
     "output_type": "execute_result"
    }
   ],
   "source": [
    "obs = random_pauli(n_qubits)\n",
    "obs"
   ]
  },
  {
   "cell_type": "markdown",
   "id": "8ae87bf1-7706-4327-90f0-3ae3f609cc5b",
   "metadata": {},
   "source": [
    "We also need a place where we will store data about our trials. \n",
    "In this example we will be using `LocalBackend` which stores information locally in a folder that you configured.\n",
    "We will set our folder for trials to be `./trials`."
   ]
  },
  {
   "cell_type": "code",
   "execution_count": 4,
   "id": "8f201920-bc3d-4831-a027-11f81662cc73",
   "metadata": {},
   "outputs": [],
   "source": [
    "local_backend = LocalBackend(\"./trials\")"
   ]
  },
  {
   "cell_type": "markdown",
   "id": "e441d87a-26eb-47d3-aab0-1d52ff9fcb88",
   "metadata": {},
   "source": [
    "In order to track our actions we need to work with `Trial` class, give it a name `Example trial`, pass our `local_backend` as backend option and start context (python `with` statement).\n",
    "\n",
    "Within this context we can call list of different methods on `trial` object. Some of them are:\n",
    "- `add_parameter` adds parameters to the trial, which can be backend names, depth, number of qubits, etc.\n",
    "- `add_metric` adds metric to the trial, which can represent measurable outcome of this trial. Ex: history of vqe iterations, results of measurement, etc.\n",
    "- `add_circuit` adds circuit to the trial to understand what circuits where used in your work\n",
    "- `add_operator` adds operator to the trial  to understand what observables/operators where used in your work"
   ]
  },
  {
   "cell_type": "code",
   "execution_count": 5,
   "id": "fa2c0e02-1025-44ba-a245-5aaec41082a9",
   "metadata": {},
   "outputs": [],
   "source": [
    "with Trial(\"Example trial\", backend=local_backend) as trial:\n",
    "    # track some parameters\n",
    "    trial.add_parameter(\"estimator\", \"qiskit.primitives.Estimator\")\n",
    "    trial.add_parameter(\"depth\", depth)\n",
    "    trial.add_parameter(\"n_qubits\", n_qubits)\n",
    "    trial.add_parameter(\"shots\", shots)\n",
    "    \n",
    "    # track objects of interest\n",
    "    trial.add_circuit(\"circuit\", circuit)\n",
    "    trial.add_operator(\"obs\", obs)\n",
    "\n",
    "    # run\n",
    "    exp_value = Estimator().run(circuit, obs, shots=shots).result().values.item()\n",
    "    \n",
    "    # track results of run\n",
    "    trial.add_metric(\"exp_value\", exp_value)"
   ]
  },
  {
   "cell_type": "markdown",
   "id": "87e881b8-4c1a-4ea5-bbaa-6a20a10d956d",
   "metadata": {},
   "source": [
    "We can get list of all experiments by calling `list` method on backend object."
   ]
  },
  {
   "cell_type": "code",
   "execution_count": 6,
   "id": "61cf974e-163a-42ff-aa53-7732a5a60ce2",
   "metadata": {},
   "outputs": [
    {
     "data": {
      "text/plain": [
       "[<Trial [Example trial] 88b5ef54-a66b-45e1-aed8-c7db7ad82594>,\n",
       " <Trial [Example trial] b418c1d2-11d7-424a-bef8-8c5c8d9976aa>,\n",
       " <Trial [Example trial] b47737a7-deac-46ae-af11-5bd587c0b688>,\n",
       " <Trial [Example trial] 2ef8eaca-0fd5-4e21-9257-1e080ed85ed2>]"
      ]
     },
     "execution_count": 6,
     "metadata": {},
     "output_type": "execute_result"
    }
   ],
   "source": [
    "local_backend.list()"
   ]
  },
  {
   "cell_type": "markdown",
   "id": "6e368613-4622-48ee-8e65-d78930eef055",
   "metadata": {},
   "source": [
    "We can quiery existing experiments by name by calling `get` method on backend object and passing name of your example"
   ]
  },
  {
   "cell_type": "code",
   "execution_count": 7,
   "id": "c84edf18-d634-4b9c-9dff-c36ca100c113",
   "metadata": {},
   "outputs": [
    {
     "data": {
      "text/plain": [
       "<Trial [Example trial] 88b5ef54-a66b-45e1-aed8-c7db7ad82594>"
      ]
     },
     "execution_count": 7,
     "metadata": {},
     "output_type": "execute_result"
    }
   ],
   "source": [
    "local_backend.get([0])"
    # same as local_backend.get(\"88b5ef54-a66b-45e1-aed8-c7db7ad82594\")",
   ]
  }
 ],
 "metadata": {
  "kernelspec": {
   "display_name": "Python 3 (ipykernel)",
   "language": "python",
   "name": "python3"
  },
  "language_info": {
   "codemirror_mode": {
    "name": "ipython",
    "version": 3
   },
   "file_extension": ".py",
   "mimetype": "text/x-python",
   "name": "python",
   "nbconvert_exporter": "python",
   "pygments_lexer": "ipython3",
   "version": "3.9.16"
  }
 },
 "nbformat": 4,
 "nbformat_minor": 5
}
