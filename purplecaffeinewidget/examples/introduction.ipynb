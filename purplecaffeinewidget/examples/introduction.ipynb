{
 "cells": [
  {
   "cell_type": "markdown",
   "metadata": {},
   "source": [
    "# Introduction"
   ]
  },
  {
   "cell_type": "code",
   "execution_count": 1,
   "metadata": {
    "tags": []
   },
   "outputs": [
    {
     "name": "stderr",
     "output_type": "stream",
     "text": [
      "/usr/lib/python3/dist-packages/pkg_resources/__init__.py:116: PkgResourcesDeprecationWarning: 1.1build1 is an invalid version and will not be supported in a future release\n",
      "  warnings.warn(\n",
      "/usr/lib/python3/dist-packages/pkg_resources/__init__.py:116: PkgResourcesDeprecationWarning: 0.1.43ubuntu1 is an invalid version and will not be supported in a future release\n",
      "  warnings.warn(\n"
     ]
    }
   ],
   "source": [
    "import purple_caffeine_widget\n",
    "from purplecaffeine.core import Trial, LocalBackend\n",
    "\n",
    "local_backend = LocalBackend(\"./\")"
   ]
  },
  {
   "cell_type": "code",
   "execution_count": 2,
   "metadata": {},
   "outputs": [],
   "source": [
    "from qiskit.circuit.random import random_circuit\n",
    "from qiskit.quantum_info.random import random_pauli\n",
    "from qiskit.primitives import Estimator\n",
    "\n",
    "\n",
    "\n",
    "n_qubits = 4\n",
    "depth = 3\n",
    "shots = 2000\n",
    "\n",
    "circuit = random_circuit(n_qubits, depth)\n",
    "obs = random_pauli(n_qubits)\n",
    "\n",
    "\n",
    "\n",
    "with Trial(\"Example trial 3\", backend=local_backend) as trial:\n",
    "    # track some parameters\n",
    "    trial.add_parameter(\"estimator\", \"qiskit.primitives.Estimator\")\n",
    "    trial.add_parameter(\"depth\", depth)\n",
    "    trial.add_parameter(\"n_qubits\", n_qubits)\n",
    "    trial.add_parameter(\"shots\", shots)\n",
    "    \n",
    "    # track objects of interest\n",
    "    trial.add_circuit(\"circuit\", circuit)\n",
    "    trial.add_operator(\"obs\", obs)\n",
    "\n",
    "    # run\n",
    "    exp_value = Estimator().run(circuit, obs, shots=shots).result().values.item()\n",
    "    \n",
    "    # track results of run\n",
    "    trial.add_metric(\"exp_value\", exp_value)"
   ]
  },
  {
   "cell_type": "code",
   "execution_count": 3,
   "metadata": {},
   "outputs": [
    {
     "data": {
      "text/plain": [
       "'Example trial 3'"
      ]
     },
     "execution_count": 3,
     "metadata": {},
     "output_type": "execute_result"
    }
   ],
   "source": [
    "local_backend.list()[0].name"
   ]
  },
  {
   "cell_type": "code",
   "execution_count": 4,
   "metadata": {
    "tags": []
   },
   "outputs": [
    {
     "data": {
      "application/vnd.jupyter.widget-view+json": {
       "model_id": "cd05bcfbeafd48d181c17eb04f0767dc",
       "version_major": 2,
       "version_minor": 0
      },
      "text/plain": [
       "Widget(value=['Example trial 3', 'Example trial 2'])"
      ]
     },
     "execution_count": 4,
     "metadata": {},
     "output_type": "execute_result"
    }
   ],
   "source": [
    "w = purple_caffeine_widget.Widget()\n",
    "w"
   ]
  },
  {
   "cell_type": "code",
   "execution_count": 8,
   "metadata": {
    "tags": []
   },
   "outputs": [],
   "source": [
    "assert w.value == 'Hello World'"
   ]
  }
 ],
 "metadata": {
  "kernelspec": {
   "display_name": "Python 3 (ipykernel)",
   "language": "python",
   "name": "python3"
  },
  "language_info": {
   "codemirror_mode": {
    "name": "ipython",
    "version": 3
   },
   "file_extension": ".py",
   "mimetype": "text/x-python",
   "name": "python",
   "nbconvert_exporter": "python",
   "pygments_lexer": "ipython3",
   "version": "3.10.6"
  }
 },
 "nbformat": 4,
 "nbformat_minor": 4
}
