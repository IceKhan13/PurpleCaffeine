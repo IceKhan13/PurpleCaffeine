{
 "cells": [
  {
   "cell_type": "markdown",
   "id": "b637b1c7",
   "metadata": {},
   "source": [
    "# Guide: Tracking QUBO experiments\n",
    "\n",
    "In this guide, we will show you how to track QUBO experiments solved by QAOA and VQE."
   ]
  },
  {
   "cell_type": "code",
   "execution_count": 1,
   "id": "2357ef2b",
   "metadata": {},
   "outputs": [],
   "source": [
    "from qiskit.algorithms.minimum_eigensolvers import QAOA, SamplingVQE\n",
    "from qiskit.algorithms.optimizers import COBYLA\n",
    "from qiskit.primitives import Sampler\n",
    "from qiskit_optimization.algorithms import MinimumEigenOptimizer\n",
    "from qiskit.circuit.library import TwoLocal\n",
    "from qiskit_optimization import QuadraticProgram\n",
    "\n",
    "from purplecaffeine import Trial, LocalStorage"
   ]
  },
  {
   "cell_type": "markdown",
   "id": "74898bbb",
   "metadata": {},
   "source": [
    "First let's create a simple QUBO problem."
   ]
  },
  {
   "cell_type": "code",
   "execution_count": 2,
   "id": "2998ef49",
   "metadata": {},
   "outputs": [
    {
     "name": "stdout",
     "output_type": "stream",
     "text": [
      "Problem name: qubo_trial\n",
      "\n",
      "Minimize\n",
      "  x*y - x*z + 2*y*z + x - 2*y + 3*z\n",
      "\n",
      "Subject to\n",
      "  No constraints\n",
      "\n",
      "  Binary variables (3)\n",
      "    x y z\n",
      "\n"
     ]
    }
   ],
   "source": [
    "qubo = QuadraticProgram(name=\"qubo_trial\")\n",
    "qubo.binary_var(\"x\")\n",
    "qubo.binary_var(\"y\")\n",
    "qubo.binary_var(\"z\")\n",
    "qubo.minimize(linear=[1, -2, 3], quadratic={(\"x\", \"y\"): 1, (\"x\", \"z\"): -1, (\"y\", \"z\"): 2})\n",
    "print(qubo.prettyprint())"
   ]
  },
  {
   "cell_type": "markdown",
   "id": "503f1e7e",
   "metadata": {},
   "source": [
    "## QAOA"
   ]
  },
  {
   "cell_type": "markdown",
   "id": "f7ca3467",
   "metadata": {},
   "source": [
    "We setup our experiment using QAOA."
   ]
  },
  {
   "cell_type": "markdown",
   "id": "856bcbd0",
   "metadata": {},
   "source": [
    "Now let's register this experiment in `LocalStorage`"
   ]
  },
  {
   "cell_type": "code",
   "execution_count": 3,
   "id": "f8b20245",
   "metadata": {},
   "outputs": [],
   "source": [
    "local_storage = LocalStorage(\"./trials\")"
   ]
  },
  {
   "cell_type": "code",
   "execution_count": 4,
   "id": "17f03646",
   "metadata": {},
   "outputs": [],
   "source": [
    "with Trial(\"QAOA trial\", storage=local_storage) as trial:\n",
    "    # track some parameters\n",
    "    trial.add_parameter(\"algo\", \"qaoa\")\n",
    "    trial.add_parameter(\"sampler\", \"qiskit.primitives.Sampler\")\n",
    "    trial.add_parameter(\"optimizer\", \"qiskit.algorithms.optimizers.COBYLA\")\n",
    "    \n",
    "    # track usefull data\n",
    "    trial.add_text(\"qubo\", qubo.export_as_lp_string())\n",
    "    qaoa_mes = QAOA(\n",
    "        sampler=Sampler(),\n",
    "        optimizer=COBYLA(),\n",
    "        callback=lambda idx, params, mean, std: trial.add_metric(\"qaoa_history\", mean)\n",
    "    )\n",
    "    \n",
    "    # run\n",
    "    qaoa = MinimumEigenOptimizer(qaoa_mes)\n",
    "    qaoa_result = qaoa.solve(qubo)\n",
    "    \n",
    "    # track results of run\n",
    "    trial.add_text(\"qaoa_result\", qaoa_result.prettyprint())"
   ]
  },
  {
   "cell_type": "markdown",
   "id": "370bf837",
   "metadata": {},
   "source": [
    "## VQE"
   ]
  },
  {
   "cell_type": "markdown",
   "id": "53fe53ae",
   "metadata": {},
   "source": [
    "We setup the ansatz circuit experiment for the VQE."
   ]
  },
  {
   "cell_type": "code",
   "execution_count": 5,
   "id": "bebfca16",
   "metadata": {},
   "outputs": [],
   "source": [
    "ansatz = TwoLocal(rotation_blocks=\"ry\", entanglement_blocks=\"cz\")"
   ]
  },
  {
   "cell_type": "markdown",
   "id": "7faa1ca6",
   "metadata": {},
   "source": [
    "Now let's track it too and save it in our `LocalStorage` as well."
   ]
  },
  {
   "cell_type": "code",
   "execution_count": 6,
   "id": "4b12891e",
   "metadata": {},
   "outputs": [],
   "source": [
    "with Trial(\"VQE trial\", storage=local_storage) as trial:\n",
    "    # track some parameters\n",
    "    trial.add_parameter(\"algo\", \"vqe\")\n",
    "    trial.add_parameter(\"sampler\", \"qiskit.primitives.Sampler\")\n",
    "    trial.add_parameter(\"optimizer\", \"qiskit.algorithms.optimizers.COBYLA\")\n",
    "    \n",
    "    # track usefull data\n",
    "    trial.add_text(\"qubo\", qubo.export_as_lp_string())\n",
    "    \n",
    "    # track some objects\n",
    "    trial.add_circuit(\"ansatz\", ansatz)\n",
    "    \n",
    "    vqe_mes = SamplingVQE(\n",
    "        sampler=Sampler(),\n",
    "        ansatz=ansatz,\n",
    "        optimizer=COBYLA(),\n",
    "        callback=lambda idx, params, mean, std: trial.add_metric(\"vqe_history\", mean)\n",
    "    )\n",
    "    \n",
    "    # run\n",
    "    vqe = MinimumEigenOptimizer(vqe_mes)\n",
    "    vqe_result = vqe.solve(qubo)\n",
    "    \n",
    "    # track results of run\n",
    "    trial.add_text(\"vqe_result\", vqe_result.prettyprint())"
   ]
  },
  {
   "cell_type": "markdown",
   "id": "8a5803a2",
   "metadata": {},
   "source": [
    "And now we can see both our experiments in our `Storage`:"
   ]
  },
  {
   "cell_type": "code",
   "execution_count": 7,
   "id": "b945a3a3",
   "metadata": {},
   "outputs": [
    {
     "data": {
      "text/plain": [
       "[<Trial [QAOA trial] 671b7bc5-58c2-4162-8756-bddca2a71548>,\n",
       " <Trial [VQE trial] e37d36e9-f9b0-4721-8b85-ad8b1784e9ed>]"
      ]
     },
     "execution_count": 7,
     "metadata": {},
     "output_type": "execute_result"
    }
   ],
   "source": [
    "local_storage.list()"
   ]
  }
 ],
 "metadata": {
  "kernelspec": {
   "display_name": "Python 3 (ipykernel)",
   "language": "python",
   "name": "python3"
  },
  "language_info": {
   "codemirror_mode": {
    "name": "ipython",
    "version": 3
   },
   "file_extension": ".py",
   "mimetype": "text/x-python",
   "name": "python",
   "nbconvert_exporter": "python",
   "pygments_lexer": "ipython3",
   "version": "3.10.6"
  }
 },
 "nbformat": 4,
 "nbformat_minor": 5
}
