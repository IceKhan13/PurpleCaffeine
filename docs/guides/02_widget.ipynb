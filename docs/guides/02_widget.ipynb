{
 "cells": [
  {
   "cell_type": "markdown",
   "id": "434adca7-bda8-46c2-ae7f-c82c85f7ac31",
   "metadata": {},
   "source": [
    "# Guide: widget"
   ]
  },
  {
   "cell_type": "code",
   "execution_count": 1,
   "id": "c24578e2-0f96-4f7c-9c1c-35438e0c0fcb",
   "metadata": {},
   "outputs": [],
   "source": [
    "import numpy as np\n",
    "import random\n",
    "\n",
    "from qiskit.circuit.random import random_circuit\n",
    "from purplecaffeine.core import BaseStorage, LocalStorage, Trial\n",
    "from purplecaffeine.widget import Widget\n",
    "\n",
    "from qiskit.circuit.random import random_circuit\n",
    "from qiskit.quantum_info.random import random_pauli\n",
    "from qiskit.primitives import Estimator"
   ]
  },
  {
   "cell_type": "code",
   "execution_count": 2,
   "id": "ffa6af6b-3a96-45d3-b305-570d7bb5b4a7",
   "metadata": {},
   "outputs": [],
   "source": [
    "local_storage = LocalStorage(\"./trials/\")\n",
    "n_qubits = 4\n",
    "depth = 10\n",
    "shots = 2000"
   ]
  },
  {
   "cell_type": "code",
   "execution_count": 3,
   "id": "1dc0afee-000c-4ce2-8454-729c1085e74a",
   "metadata": {},
   "outputs": [],
   "source": [
    "for i in range(0, 3):\n",
    "    with Trial(\"Example trial \" + str(i), storage=local_storage) as trial:\n",
    "        # track parameter\n",
    "        trial.add_parameter(\"estimator\", \"qiskit.primitives.Estimator\")\n",
    "        trial.add_parameter(\"depth\", depth)\n",
    "        trial.add_parameter(\"n_qubits\", n_qubits)\n",
    "        trial.add_parameter(\"shots\", shots)\n",
    "        \n",
    "        # track circuits\n",
    "        circuit = random_circuit(n_qubits, depth)\n",
    "        trial.add_circuit(\"circuit\", circuit)\n",
    "        trial.add_circuit(\"another circuit\", random_circuit(n_qubits, depth))\n",
    "\n",
    "        # track operators\n",
    "        obs = random_pauli(n_qubits)\n",
    "        trial.add_operator(\"obs\", obs)\n",
    "        for idx in range(5):\n",
    "            trial.add_operator(f\"obs {idx}\", random_pauli(n_qubits))\n",
    "        \n",
    "        # track tags\n",
    "        trial.add_tag(f\"tag {i}\")\n",
    "\n",
    "        # track texts\n",
    "        trial.add_text(\"text one\", \"This text will be displayed in text tab\")\n",
    "        trial.add_text(\"text two\", \"This text will be displayed in text tab as well\")\n",
    "    \n",
    "        # run\n",
    "        exp_value = Estimator().run(circuit, obs, shots=shots).result().values.item()\n",
    "        \n",
    "        # track history data as metric\n",
    "        for _ in range(100):\n",
    "            trial.add_metric(\"history\", random.randint(0, 10))\n",
    "            \n",
    "        # track results as metric\n",
    "        trial.add_metric(\"exp_value\", exp_value)"
   ]
  },
  {
   "cell_type": "code",
   "execution_count": 4,
   "id": "3558f3a4-571a-42d1-b275-113fcfb4ae9e",
   "metadata": {},
   "outputs": [
    {
     "data": {
      "application/vnd.jupyter.widget-view+json": {
       "model_id": "9f5ddc9c3a93446f89996c1acefec758",
       "version_major": 2,
       "version_minor": 0
      },
      "text/plain": [
       "GridspecLayout(children=(AppLayout(children=(Button(description='Search', layout=Layout(grid_area='left-sideba…"
      ]
     },
     "execution_count": 4,
     "metadata": {},
     "output_type": "execute_result"
    }
   ],
   "source": [
    "Widget(local_storage).show()"
   ]
  }
 ],
 "metadata": {
  "kernelspec": {
   "display_name": "Python 3 (ipykernel)",
   "language": "python",
   "name": "python3"
  },
  "language_info": {
   "codemirror_mode": {
    "name": "ipython",
    "version": 3
   },
   "file_extension": ".py",
   "mimetype": "text/x-python",
   "name": "python",
   "nbconvert_exporter": "python",
   "pygments_lexer": "ipython3",
   "version": "3.9.16"
  }
 },
 "nbformat": 4,
 "nbformat_minor": 5
}
