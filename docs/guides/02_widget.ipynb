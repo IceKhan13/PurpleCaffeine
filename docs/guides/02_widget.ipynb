{
 "cells": [
  {
   "cell_type": "markdown",
   "id": "434adca7-bda8-46c2-ae7f-c82c85f7ac31",
   "metadata": {},
   "source": [
    "# WIDGET USE EXAMPLE"
   ]
  },
  {
   "cell_type": "code",
   "execution_count": 9,
   "id": "c24578e2-0f96-4f7c-9c1c-35438e0c0fcb",
   "metadata": {},
   "outputs": [],
   "source": [
    "import numpy as np\n",
    "\n",
    "from qiskit.circuit.random import random_circuit\n",
    "from purplecaffeine.core import BaseStorage, LocalStorage, Trial"
   ]
  },
  {
   "cell_type": "code",
   "execution_count": 10,
   "id": "1dc0afee-000c-4ce2-8454-729c1085e74a",
   "metadata": {},
   "outputs": [],
   "source": [
    "from qiskit.circuit.random import random_circuit\n",
    "from qiskit.quantum_info.random import random_pauli\n",
    "from qiskit.primitives import Estimator\n",
    "\n",
    "from purplecaffeine.core import Trial, LocalStorage\n",
    "from purplecaffeine.widget import Widget\n",
    "\n",
    "local_storage = LocalStorage(\"./\")\n",
    "n_qubits = 4\n",
    "depth = 3\n",
    "shots = 2000\n",
    "\n",
    "circuit = random_circuit(n_qubits, depth)\n",
    "obs = random_pauli(n_qubits)\n",
    "\n",
    "\n",
    "for i in range(0, 20):\n",
    "    with Trial(\"Example trial \" + str(i), storage=local_storage) as trial:\n",
    "        # track some parameters\n",
    "        trial.add_parameter(\"estimator\", \"qiskit.primitives.Estimator\")\n",
    "        trial.add_parameter(\"depth\", depth)\n",
    "        trial.add_parameter(\"n_qubits\", n_qubits)\n",
    "        trial.add_parameter(\"shots\", shots)\n",
    "        \n",
    "        # track objects of interest\n",
    "        trial.add_circuit(\"circuit\", circuit)\n",
    "        trial.add_operator(\"obs\", obs)\n",
    "        trial.add_tag(\"tag #\" + str(i))\n",
    "    \n",
    "        # run\n",
    "        exp_value = Estimator().run(circuit, obs, shots=shots).result().values.item()\n",
    "        \n",
    "        # track results of run\n",
    "        trial.add_metric(\"exp_value\", exp_value)"
   ]
  },
  {
   "cell_type": "code",
   "execution_count": 11,
   "id": "3558f3a4-571a-42d1-b275-113fcfb4ae9e",
   "metadata": {},
   "outputs": [
    {
     "data": {
      "application/vnd.jupyter.widget-view+json": {
       "model_id": "a9dc46ad2d02469dbfdd00ab996ebed1",
       "version_major": 2,
       "version_minor": 0
      },
      "text/plain": [
       "AppLayout(children=(AppLayout(children=(Button(description='Search', layout=Layout(grid_area='left-sidebar'), …"
      ]
     },
     "execution_count": 11,
     "metadata": {},
     "output_type": "execute_result"
    }
   ],
   "source": [
    "Widget(local_storage).show()"
   ]
  }
 ],
 "metadata": {
  "kernelspec": {
   "display_name": "Python 3 (ipykernel)",
   "language": "python",
   "name": "python3"
  },
  "language_info": {
   "codemirror_mode": {
    "name": "ipython",
    "version": 3
   },
   "file_extension": ".py",
   "mimetype": "text/x-python",
   "name": "python",
   "nbconvert_exporter": "python",
   "pygments_lexer": "ipython3",
   "version": "3.10.6"
  }
 },
 "nbformat": 4,
 "nbformat_minor": 5
}
