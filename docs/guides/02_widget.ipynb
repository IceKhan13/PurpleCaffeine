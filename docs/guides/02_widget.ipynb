{
 "cells": [
  {
   "cell_type": "code",
   "execution_count": 2,
   "id": "c24578e2-0f96-4f7c-9c1c-35438e0c0fcb",
   "metadata": {},
   "outputs": [],
   "source": [
    "import numpy as np\n",
    "import pandas as pd\n",
    "\n",
    "import matplotlib.pyplot as plt\n",
    "\n",
    "from qiskit.circuit.random import random_circuit\n",
    "\n",
    "from purplecaffeine import LocalStorage, Trial, Widget"
   ]
  },
  {
   "cell_type": "code",
   "execution_count": 3,
   "id": "a259ebc4-8004-4377-8988-3ddb512a1bd1",
   "metadata": {},
   "outputs": [],
   "source": [
    "local_storage = LocalStorage(\"./trials\")\n",
    "for i in range(20):\n",
    "    with Trial(f\"My trial #{i}\", storage=local_storage) as trial:\n",
    "        trial.add_parameter(\"my parameter\", i)\n",
    "        for j in range(20):\n",
    "            trial.add_metric(\"vqe_history\", np.random.randint(0, 50))\n",
    "          \n",
    "        for j in range(20):\n",
    "            trial.add_metric(\"other metric\", np.random.randint(0, 50))\n",
    "        \n",
    "        for j in range(2):\n",
    "            trial.add_circuit(f\"circuit {j}\", random_circuit(3, 2))"
   ]
  },
  {
   "cell_type": "code",
   "execution_count": 4,
   "id": "3558f3a4-571a-42d1-b275-113fcfb4ae9e",
   "metadata": {},
   "outputs": [
    {
     "data": {
      "application/vnd.jupyter.widget-view+json": {
       "model_id": "b1f46412eb174be0bedf2c5e6bf42d24",
       "version_major": 2,
       "version_minor": 0
      },
      "text/plain": [
       "GridspecLayout(children=(Text(value='', description='Search:', layout=Layout(grid_area='widget001', width='95%…"
      ]
     },
     "execution_count": 4,
     "metadata": {},
     "output_type": "execute_result"
    }
   ],
   "source": [
    "Widget(local_storage).show()"
   ]
  }
 ],
 "metadata": {
  "kernelspec": {
   "display_name": "Python 3 (ipykernel)",
   "language": "python",
   "name": "python3"
  },
  "language_info": {
   "codemirror_mode": {
    "name": "ipython",
    "version": 3
   },
   "file_extension": ".py",
   "mimetype": "text/x-python",
   "name": "python",
   "nbconvert_exporter": "python",
   "pygments_lexer": "ipython3",
   "version": "3.9.16"
  }
 },
 "nbformat": 4,
 "nbformat_minor": 5
}
